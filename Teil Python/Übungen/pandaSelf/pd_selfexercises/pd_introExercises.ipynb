{
 "cells": [
  {
   "cell_type": "code",
   "id": "initial_id",
   "metadata": {
    "collapsed": true,
    "ExecuteTime": {
     "end_time": "2025-10-13T19:50:38.830523Z",
     "start_time": "2025-10-13T19:50:38.817438Z"
    }
   },
   "source": [
    "import pandas as pd\n",
    "\n",
    "from Teil_Python.pandas.pd_exercises.pd_exercises import older_passengers\n",
    "\n",
    "df = pd.read_csv(\"Titanic-Dataset.csv\")\n",
    "print(df.head(5))"
   ],
   "outputs": [
    {
     "name": "stdout",
     "output_type": "stream",
     "text": [
      "   PassengerId  Survived  Pclass  \\\n",
      "0            1         0       3   \n",
      "1            2         1       1   \n",
      "2            3         1       3   \n",
      "3            4         1       1   \n",
      "4            5         0       3   \n",
      "\n",
      "                                                Name     Sex   Age  SibSp  \\\n",
      "0                            Braund, Mr. Owen Harris    male  22.0      1   \n",
      "1  Cumings, Mrs. John Bradley (Florence Briggs Th...  female  38.0      1   \n",
      "2                             Heikkinen, Miss. Laina  female  26.0      0   \n",
      "3       Futrelle, Mrs. Jacques Heath (Lily May Peel)  female  35.0      1   \n",
      "4                           Allen, Mr. William Henry    male  35.0      0   \n",
      "\n",
      "   Parch            Ticket     Fare Cabin Embarked  \n",
      "0      0         A/5 21171   7.2500   NaN        S  \n",
      "1      0          PC 17599  71.2833   C85        C  \n",
      "2      0  STON/O2. 3101282   7.9250   NaN        S  \n",
      "3      0            113803  53.1000  C123        S  \n",
      "4      0            373450   8.0500   NaN        S  \n"
     ]
    }
   ],
   "execution_count": 25
  },
  {
   "metadata": {
    "ExecuteTime": {
     "end_time": "2025-10-13T19:38:14.718183Z",
     "start_time": "2025-10-13T19:38:14.712588Z"
    }
   },
   "cell_type": "code",
   "source": [
    "#Exercise 1\n",
    "#Number of rows of the dataframe\n",
    "var = len(df)\n",
    "print(var)"
   ],
   "id": "8fadfcf3180f2e78",
   "outputs": [
    {
     "name": "stdout",
     "output_type": "stream",
     "text": [
      "891\n"
     ]
    }
   ],
   "execution_count": 5
  },
  {
   "metadata": {
    "ExecuteTime": {
     "end_time": "2025-10-13T19:39:15.711263Z",
     "start_time": "2025-10-13T19:39:15.696616Z"
    }
   },
   "cell_type": "code",
   "source": [
    "#Exercise 2\n",
    "#List all attributes of the dataset\n",
    "col = df.columns.tolist()\n",
    "\n",
    "print(col)\n",
    "print(df.info())"
   ],
   "id": "5db721cde730828",
   "outputs": [
    {
     "name": "stdout",
     "output_type": "stream",
     "text": [
      "['PassengerId', 'Survived', 'Pclass', 'Name', 'Sex', 'Age', 'SibSp', 'Parch', 'Ticket', 'Fare', 'Cabin', 'Embarked']\n",
      "<class 'pandas.core.frame.DataFrame'>\n",
      "RangeIndex: 891 entries, 0 to 890\n",
      "Data columns (total 12 columns):\n",
      " #   Column       Non-Null Count  Dtype  \n",
      "---  ------       --------------  -----  \n",
      " 0   PassengerId  891 non-null    int64  \n",
      " 1   Survived     891 non-null    int64  \n",
      " 2   Pclass       891 non-null    int64  \n",
      " 3   Name         891 non-null    object \n",
      " 4   Sex          891 non-null    object \n",
      " 5   Age          714 non-null    float64\n",
      " 6   SibSp        891 non-null    int64  \n",
      " 7   Parch        891 non-null    int64  \n",
      " 8   Ticket       891 non-null    object \n",
      " 9   Fare         891 non-null    float64\n",
      " 10  Cabin        204 non-null    object \n",
      " 11  Embarked     889 non-null    object \n",
      "dtypes: float64(2), int64(5), object(5)\n",
      "memory usage: 83.7+ KB\n",
      "None\n"
     ]
    }
   ],
   "execution_count": 8
  },
  {
   "metadata": {
    "ExecuteTime": {
     "end_time": "2025-10-13T19:44:06.873899Z",
     "start_time": "2025-10-13T19:44:06.865975Z"
    }
   },
   "cell_type": "code",
   "source": [
    "#Exercise 3\n",
    "#Age of youngest passenger\n",
    "#mit skipna = True werden NaN-Werte ignoriert\n",
    "#Ohne print, wird auch der Datentyp des Werts angezeigt\n",
    "df['Age'].min(skipna=True)"
   ],
   "id": "f84d3028f03811b7",
   "outputs": [
    {
     "data": {
      "text/plain": [
       "np.float64(0.42)"
      ]
     },
     "execution_count": 16,
     "metadata": {},
     "output_type": "execute_result"
    }
   ],
   "execution_count": 16
  },
  {
   "metadata": {
    "ExecuteTime": {
     "end_time": "2025-10-13T19:45:48.150457Z",
     "start_time": "2025-10-13T19:45:48.145324Z"
    }
   },
   "cell_type": "code",
   "source": [
    "#Exercise 4\n",
    "#Age of oldest passenger\n",
    "df['Age'].max(skipna=True)"
   ],
   "id": "8b7cd54d336d509e",
   "outputs": [
    {
     "data": {
      "text/plain": [
       "np.float64(80.0)"
      ]
     },
     "execution_count": 17,
     "metadata": {},
     "output_type": "execute_result"
    }
   ],
   "execution_count": 17
  },
  {
   "metadata": {
    "ExecuteTime": {
     "end_time": "2025-10-13T19:48:36.040141Z",
     "start_time": "2025-10-13T19:48:36.035175Z"
    }
   },
   "cell_type": "code",
   "source": [
    "#Exercise 5\n",
    "#Average age of all passengers (rounded to 2 decimal places)\n",
    "round(df['Age'].mean(),2)\n",
    "float(format(df['Age'].mean(), \".2f\"))"
   ],
   "id": "e446fe44dc97c51a",
   "outputs": [
    {
     "data": {
      "text/plain": [
       "np.float64(29.7)"
      ]
     },
     "execution_count": 23,
     "metadata": {},
     "output_type": "execute_result"
    }
   ],
   "execution_count": 23
  },
  {
   "metadata": {
    "ExecuteTime": {
     "end_time": "2025-10-13T19:51:26.746900Z",
     "start_time": "2025-10-13T19:51:26.739709Z"
    }
   },
   "cell_type": "code",
   "source": [
    "#Exercise 6\n",
    "#Fare which was paid most often\n",
    "#mode = Modus\n",
    "#dropna löscht alle Zeilen mit min. ein NaN-Wert\n",
    "df['Fare'].mode(dropna=True)"
   ],
   "id": "42a627b00356217b",
   "outputs": [
    {
     "data": {
      "text/plain": [
       "0    8.05\n",
       "Name: Fare, dtype: float64"
      ]
     },
     "execution_count": 26,
     "metadata": {},
     "output_type": "execute_result"
    }
   ],
   "execution_count": 26
  },
  {
   "metadata": {
    "ExecuteTime": {
     "end_time": "2025-10-13T19:58:09.180397Z",
     "start_time": "2025-10-13T19:58:09.170475Z"
    }
   },
   "cell_type": "code",
   "source": [
    "#Exercise 7\n",
    "#Names and ages of the passengers older than 70 years\n",
    "#Number of the passengers older than 70 years\n",
    "older_70 = df.loc[df['Age'] > 70, ['Name','Age']]\n",
    "count_older_70 = len(older_70)\n",
    "print(\"Count older than 70:\",count_older_70)\n",
    "older_70"
   ],
   "id": "a42b5ef9feab22a9",
   "outputs": [
    {
     "name": "stdout",
     "output_type": "stream",
     "text": [
      "Count older than 70: 5\n"
     ]
    },
    {
     "data": {
      "text/plain": [
       "                                     Name   Age\n",
       "96              Goldschmidt, Mr. George B  71.0\n",
       "116                  Connors, Mr. Patrick  70.5\n",
       "493               Artagaveytia, Mr. Ramon  71.0\n",
       "630  Barkworth, Mr. Algernon Henry Wilson  80.0\n",
       "851                   Svensson, Mr. Johan  74.0"
      ],
      "text/html": [
       "<div>\n",
       "<style scoped>\n",
       "    .dataframe tbody tr th:only-of-type {\n",
       "        vertical-align: middle;\n",
       "    }\n",
       "\n",
       "    .dataframe tbody tr th {\n",
       "        vertical-align: top;\n",
       "    }\n",
       "\n",
       "    .dataframe thead th {\n",
       "        text-align: right;\n",
       "    }\n",
       "</style>\n",
       "<table border=\"1\" class=\"dataframe\">\n",
       "  <thead>\n",
       "    <tr style=\"text-align: right;\">\n",
       "      <th></th>\n",
       "      <th>Name</th>\n",
       "      <th>Age</th>\n",
       "    </tr>\n",
       "  </thead>\n",
       "  <tbody>\n",
       "    <tr>\n",
       "      <th>96</th>\n",
       "      <td>Goldschmidt, Mr. George B</td>\n",
       "      <td>71.0</td>\n",
       "    </tr>\n",
       "    <tr>\n",
       "      <th>116</th>\n",
       "      <td>Connors, Mr. Patrick</td>\n",
       "      <td>70.5</td>\n",
       "    </tr>\n",
       "    <tr>\n",
       "      <th>493</th>\n",
       "      <td>Artagaveytia, Mr. Ramon</td>\n",
       "      <td>71.0</td>\n",
       "    </tr>\n",
       "    <tr>\n",
       "      <th>630</th>\n",
       "      <td>Barkworth, Mr. Algernon Henry Wilson</td>\n",
       "      <td>80.0</td>\n",
       "    </tr>\n",
       "    <tr>\n",
       "      <th>851</th>\n",
       "      <td>Svensson, Mr. Johan</td>\n",
       "      <td>74.0</td>\n",
       "    </tr>\n",
       "  </tbody>\n",
       "</table>\n",
       "</div>"
      ]
     },
     "execution_count": 28,
     "metadata": {},
     "output_type": "execute_result"
    }
   ],
   "execution_count": 28
  },
  {
   "metadata": {
    "ExecuteTime": {
     "end_time": "2025-10-13T20:02:50.359317Z",
     "start_time": "2025-10-13T20:02:50.349867Z"
    }
   },
   "cell_type": "code",
   "source": [
    "#Exercise 8\n",
    "#Names and ages of the passengers older than 70 years sorted by name in ascending order\n",
    "older_70 = df.loc[df['Age'] > 70, ['Name', 'Age']]\n",
    "older_passengers = older_70.sort_values(by=['Name'], ascending=True)\n",
    "older_passengers"
   ],
   "id": "8d3290712a0aefbb",
   "outputs": [
    {
     "data": {
      "text/plain": [
       "                                     Name   Age\n",
       "493               Artagaveytia, Mr. Ramon  71.0\n",
       "630  Barkworth, Mr. Algernon Henry Wilson  80.0\n",
       "116                  Connors, Mr. Patrick  70.5\n",
       "96              Goldschmidt, Mr. George B  71.0\n",
       "851                   Svensson, Mr. Johan  74.0"
      ],
      "text/html": [
       "<div>\n",
       "<style scoped>\n",
       "    .dataframe tbody tr th:only-of-type {\n",
       "        vertical-align: middle;\n",
       "    }\n",
       "\n",
       "    .dataframe tbody tr th {\n",
       "        vertical-align: top;\n",
       "    }\n",
       "\n",
       "    .dataframe thead th {\n",
       "        text-align: right;\n",
       "    }\n",
       "</style>\n",
       "<table border=\"1\" class=\"dataframe\">\n",
       "  <thead>\n",
       "    <tr style=\"text-align: right;\">\n",
       "      <th></th>\n",
       "      <th>Name</th>\n",
       "      <th>Age</th>\n",
       "    </tr>\n",
       "  </thead>\n",
       "  <tbody>\n",
       "    <tr>\n",
       "      <th>493</th>\n",
       "      <td>Artagaveytia, Mr. Ramon</td>\n",
       "      <td>71.0</td>\n",
       "    </tr>\n",
       "    <tr>\n",
       "      <th>630</th>\n",
       "      <td>Barkworth, Mr. Algernon Henry Wilson</td>\n",
       "      <td>80.0</td>\n",
       "    </tr>\n",
       "    <tr>\n",
       "      <th>116</th>\n",
       "      <td>Connors, Mr. Patrick</td>\n",
       "      <td>70.5</td>\n",
       "    </tr>\n",
       "    <tr>\n",
       "      <th>96</th>\n",
       "      <td>Goldschmidt, Mr. George B</td>\n",
       "      <td>71.0</td>\n",
       "    </tr>\n",
       "    <tr>\n",
       "      <th>851</th>\n",
       "      <td>Svensson, Mr. Johan</td>\n",
       "      <td>74.0</td>\n",
       "    </tr>\n",
       "  </tbody>\n",
       "</table>\n",
       "</div>"
      ]
     },
     "execution_count": 32,
     "metadata": {},
     "output_type": "execute_result"
    }
   ],
   "execution_count": 32
  },
  {
   "metadata": {
    "ExecuteTime": {
     "end_time": "2025-10-13T20:21:09.703946Z",
     "start_time": "2025-10-13T20:21:09.694531Z"
    }
   },
   "cell_type": "code",
   "source": [
    "#Exercise 9\n",
    "#PassenderId and Name of all male passengers embarking from Southhampton (abbreviation 'S')\n",
    "print(df['Sex'].unique())\n",
    "print(df['Embarked'].unique())\n",
    "males_from_s = df.loc[(df['Sex'] == 'male') & (df['Embarked'] == 'S'),['PassengerId','Name']]\n",
    "males_from_s\n",
    "\n",
    "#Eine Klammer -> 1 Spalte (Series)\n",
    "#2 Klammern -> Mehrere Spalten (DataFrame)\n",
    "#males_from_s[['PassengerId','Name']]"
   ],
   "id": "40f3882e168b8aa4",
   "outputs": [
    {
     "name": "stdout",
     "output_type": "stream",
     "text": [
      "['male' 'female']\n",
      "['S' 'C' 'Q' nan]\n"
     ]
    },
    {
     "data": {
      "text/plain": [
       "     PassengerId                            Name\n",
       "0              1         Braund, Mr. Owen Harris\n",
       "4              5        Allen, Mr. William Henry\n",
       "6              7         McCarthy, Mr. Timothy J\n",
       "7              8  Palsson, Master. Gosta Leonard\n",
       "12            13  Saundercock, Mr. William Henry\n",
       "..           ...                             ...\n",
       "878          879              Laleff, Mr. Kristo\n",
       "881          882              Markun, Mr. Johann\n",
       "883          884   Banfield, Mr. Frederick James\n",
       "884          885          Sutehall, Mr. Henry Jr\n",
       "886          887           Montvila, Rev. Juozas\n",
       "\n",
       "[441 rows x 2 columns]"
      ],
      "text/html": [
       "<div>\n",
       "<style scoped>\n",
       "    .dataframe tbody tr th:only-of-type {\n",
       "        vertical-align: middle;\n",
       "    }\n",
       "\n",
       "    .dataframe tbody tr th {\n",
       "        vertical-align: top;\n",
       "    }\n",
       "\n",
       "    .dataframe thead th {\n",
       "        text-align: right;\n",
       "    }\n",
       "</style>\n",
       "<table border=\"1\" class=\"dataframe\">\n",
       "  <thead>\n",
       "    <tr style=\"text-align: right;\">\n",
       "      <th></th>\n",
       "      <th>PassengerId</th>\n",
       "      <th>Name</th>\n",
       "    </tr>\n",
       "  </thead>\n",
       "  <tbody>\n",
       "    <tr>\n",
       "      <th>0</th>\n",
       "      <td>1</td>\n",
       "      <td>Braund, Mr. Owen Harris</td>\n",
       "    </tr>\n",
       "    <tr>\n",
       "      <th>4</th>\n",
       "      <td>5</td>\n",
       "      <td>Allen, Mr. William Henry</td>\n",
       "    </tr>\n",
       "    <tr>\n",
       "      <th>6</th>\n",
       "      <td>7</td>\n",
       "      <td>McCarthy, Mr. Timothy J</td>\n",
       "    </tr>\n",
       "    <tr>\n",
       "      <th>7</th>\n",
       "      <td>8</td>\n",
       "      <td>Palsson, Master. Gosta Leonard</td>\n",
       "    </tr>\n",
       "    <tr>\n",
       "      <th>12</th>\n",
       "      <td>13</td>\n",
       "      <td>Saundercock, Mr. William Henry</td>\n",
       "    </tr>\n",
       "    <tr>\n",
       "      <th>...</th>\n",
       "      <td>...</td>\n",
       "      <td>...</td>\n",
       "    </tr>\n",
       "    <tr>\n",
       "      <th>878</th>\n",
       "      <td>879</td>\n",
       "      <td>Laleff, Mr. Kristo</td>\n",
       "    </tr>\n",
       "    <tr>\n",
       "      <th>881</th>\n",
       "      <td>882</td>\n",
       "      <td>Markun, Mr. Johann</td>\n",
       "    </tr>\n",
       "    <tr>\n",
       "      <th>883</th>\n",
       "      <td>884</td>\n",
       "      <td>Banfield, Mr. Frederick James</td>\n",
       "    </tr>\n",
       "    <tr>\n",
       "      <th>884</th>\n",
       "      <td>885</td>\n",
       "      <td>Sutehall, Mr. Henry Jr</td>\n",
       "    </tr>\n",
       "    <tr>\n",
       "      <th>886</th>\n",
       "      <td>887</td>\n",
       "      <td>Montvila, Rev. Juozas</td>\n",
       "    </tr>\n",
       "  </tbody>\n",
       "</table>\n",
       "<p>441 rows × 2 columns</p>\n",
       "</div>"
      ]
     },
     "execution_count": 49,
     "metadata": {},
     "output_type": "execute_result"
    }
   ],
   "execution_count": 49
  },
  {
   "metadata": {
    "ExecuteTime": {
     "end_time": "2025-10-13T20:21:15.734761Z",
     "start_time": "2025-10-13T20:21:15.725665Z"
    }
   },
   "cell_type": "code",
   "source": [
    "#Exercise 10\n",
    "#Like exercise 9, only the first 20 passengers\n",
    "males_from_s = df[(df['Sex'] == 'male') & (df['Embarked'] == 'S')]\n",
    "males_from_s[['PassengerId','Name']].head(20)"
   ],
   "id": "9cbeff981f33f96e",
   "outputs": [
    {
     "data": {
      "text/plain": [
       "    PassengerId                                Name\n",
       "0             1             Braund, Mr. Owen Harris\n",
       "4             5            Allen, Mr. William Henry\n",
       "6             7             McCarthy, Mr. Timothy J\n",
       "7             8      Palsson, Master. Gosta Leonard\n",
       "12           13      Saundercock, Mr. William Henry\n",
       "13           14         Andersson, Mr. Anders Johan\n",
       "17           18        Williams, Mr. Charles Eugene\n",
       "20           21                Fynney, Mr. Joseph J\n",
       "21           22               Beesley, Mr. Lawrence\n",
       "23           24        Sloper, Mr. William Thompson\n",
       "27           28      Fortune, Mr. Charles Alexander\n",
       "29           30                 Todoroff, Mr. Lalio\n",
       "33           34               Wheadon, Mr. Edward H\n",
       "35           36      Holverson, Mr. Alexander Oskar\n",
       "37           38            Cann, Mr. Ernest Charles\n",
       "45           46            Rogers, Mr. William John\n",
       "50           51          Panula, Master. Juha Niilo\n",
       "51           52        Nosworthy, Mr. Richard Cater\n",
       "55           56                   Woolner, Mr. Hugh\n",
       "59           60  Goodwin, Master. William Frederick"
      ],
      "text/html": [
       "<div>\n",
       "<style scoped>\n",
       "    .dataframe tbody tr th:only-of-type {\n",
       "        vertical-align: middle;\n",
       "    }\n",
       "\n",
       "    .dataframe tbody tr th {\n",
       "        vertical-align: top;\n",
       "    }\n",
       "\n",
       "    .dataframe thead th {\n",
       "        text-align: right;\n",
       "    }\n",
       "</style>\n",
       "<table border=\"1\" class=\"dataframe\">\n",
       "  <thead>\n",
       "    <tr style=\"text-align: right;\">\n",
       "      <th></th>\n",
       "      <th>PassengerId</th>\n",
       "      <th>Name</th>\n",
       "    </tr>\n",
       "  </thead>\n",
       "  <tbody>\n",
       "    <tr>\n",
       "      <th>0</th>\n",
       "      <td>1</td>\n",
       "      <td>Braund, Mr. Owen Harris</td>\n",
       "    </tr>\n",
       "    <tr>\n",
       "      <th>4</th>\n",
       "      <td>5</td>\n",
       "      <td>Allen, Mr. William Henry</td>\n",
       "    </tr>\n",
       "    <tr>\n",
       "      <th>6</th>\n",
       "      <td>7</td>\n",
       "      <td>McCarthy, Mr. Timothy J</td>\n",
       "    </tr>\n",
       "    <tr>\n",
       "      <th>7</th>\n",
       "      <td>8</td>\n",
       "      <td>Palsson, Master. Gosta Leonard</td>\n",
       "    </tr>\n",
       "    <tr>\n",
       "      <th>12</th>\n",
       "      <td>13</td>\n",
       "      <td>Saundercock, Mr. William Henry</td>\n",
       "    </tr>\n",
       "    <tr>\n",
       "      <th>13</th>\n",
       "      <td>14</td>\n",
       "      <td>Andersson, Mr. Anders Johan</td>\n",
       "    </tr>\n",
       "    <tr>\n",
       "      <th>17</th>\n",
       "      <td>18</td>\n",
       "      <td>Williams, Mr. Charles Eugene</td>\n",
       "    </tr>\n",
       "    <tr>\n",
       "      <th>20</th>\n",
       "      <td>21</td>\n",
       "      <td>Fynney, Mr. Joseph J</td>\n",
       "    </tr>\n",
       "    <tr>\n",
       "      <th>21</th>\n",
       "      <td>22</td>\n",
       "      <td>Beesley, Mr. Lawrence</td>\n",
       "    </tr>\n",
       "    <tr>\n",
       "      <th>23</th>\n",
       "      <td>24</td>\n",
       "      <td>Sloper, Mr. William Thompson</td>\n",
       "    </tr>\n",
       "    <tr>\n",
       "      <th>27</th>\n",
       "      <td>28</td>\n",
       "      <td>Fortune, Mr. Charles Alexander</td>\n",
       "    </tr>\n",
       "    <tr>\n",
       "      <th>29</th>\n",
       "      <td>30</td>\n",
       "      <td>Todoroff, Mr. Lalio</td>\n",
       "    </tr>\n",
       "    <tr>\n",
       "      <th>33</th>\n",
       "      <td>34</td>\n",
       "      <td>Wheadon, Mr. Edward H</td>\n",
       "    </tr>\n",
       "    <tr>\n",
       "      <th>35</th>\n",
       "      <td>36</td>\n",
       "      <td>Holverson, Mr. Alexander Oskar</td>\n",
       "    </tr>\n",
       "    <tr>\n",
       "      <th>37</th>\n",
       "      <td>38</td>\n",
       "      <td>Cann, Mr. Ernest Charles</td>\n",
       "    </tr>\n",
       "    <tr>\n",
       "      <th>45</th>\n",
       "      <td>46</td>\n",
       "      <td>Rogers, Mr. William John</td>\n",
       "    </tr>\n",
       "    <tr>\n",
       "      <th>50</th>\n",
       "      <td>51</td>\n",
       "      <td>Panula, Master. Juha Niilo</td>\n",
       "    </tr>\n",
       "    <tr>\n",
       "      <th>51</th>\n",
       "      <td>52</td>\n",
       "      <td>Nosworthy, Mr. Richard Cater</td>\n",
       "    </tr>\n",
       "    <tr>\n",
       "      <th>55</th>\n",
       "      <td>56</td>\n",
       "      <td>Woolner, Mr. Hugh</td>\n",
       "    </tr>\n",
       "    <tr>\n",
       "      <th>59</th>\n",
       "      <td>60</td>\n",
       "      <td>Goodwin, Master. William Frederick</td>\n",
       "    </tr>\n",
       "  </tbody>\n",
       "</table>\n",
       "</div>"
      ]
     },
     "execution_count": 50,
     "metadata": {},
     "output_type": "execute_result"
    }
   ],
   "execution_count": 50
  },
  {
   "metadata": {
    "ExecuteTime": {
     "end_time": "2025-10-13T20:28:55.612248Z",
     "start_time": "2025-10-13T20:28:55.602543Z"
    }
   },
   "cell_type": "code",
   "source": [
    "#Exercise 11\n",
    "print(df['Survived'].unique())\n",
    "\n",
    "oldest_age = df['Age'].max()\n",
    "print(oldest_age)\n",
    "\n",
    "oldest_survivor = df.loc[(df['Age'] == oldest_age) & (df['Survived'] == 1),['Name','Age','Sex','Survived']]\n",
    "oldest_survivor"
   ],
   "id": "a78b1a4244d79ef0",
   "outputs": [
    {
     "name": "stdout",
     "output_type": "stream",
     "text": [
      "[0 1]\n",
      "80.0\n"
     ]
    },
    {
     "data": {
      "text/plain": [
       "                                     Name   Age   Sex  Survived\n",
       "630  Barkworth, Mr. Algernon Henry Wilson  80.0  male         1"
      ],
      "text/html": [
       "<div>\n",
       "<style scoped>\n",
       "    .dataframe tbody tr th:only-of-type {\n",
       "        vertical-align: middle;\n",
       "    }\n",
       "\n",
       "    .dataframe tbody tr th {\n",
       "        vertical-align: top;\n",
       "    }\n",
       "\n",
       "    .dataframe thead th {\n",
       "        text-align: right;\n",
       "    }\n",
       "</style>\n",
       "<table border=\"1\" class=\"dataframe\">\n",
       "  <thead>\n",
       "    <tr style=\"text-align: right;\">\n",
       "      <th></th>\n",
       "      <th>Name</th>\n",
       "      <th>Age</th>\n",
       "      <th>Sex</th>\n",
       "      <th>Survived</th>\n",
       "    </tr>\n",
       "  </thead>\n",
       "  <tbody>\n",
       "    <tr>\n",
       "      <th>630</th>\n",
       "      <td>Barkworth, Mr. Algernon Henry Wilson</td>\n",
       "      <td>80.0</td>\n",
       "      <td>male</td>\n",
       "      <td>1</td>\n",
       "    </tr>\n",
       "  </tbody>\n",
       "</table>\n",
       "</div>"
      ]
     },
     "execution_count": 56,
     "metadata": {},
     "output_type": "execute_result"
    }
   ],
   "execution_count": 56
  },
  {
   "metadata": {
    "ExecuteTime": {
     "end_time": "2025-10-13T20:32:49.823138Z",
     "start_time": "2025-10-13T20:32:49.814707Z"
    }
   },
   "cell_type": "code",
   "source": [
    "#Exercise 11\n",
    "#Wie in den Lösungen\n",
    "\n",
    "survivors = df[df['Survived'] == 1]\n",
    "# df[\"Age\"].max()        # gives 80.0 (the oldest age)\n",
    "# df[\"Age\"].idxmax()     # gives 630 (the row index of that passenger)\n",
    "oldest_survivor = survivors.loc[survivors['Age'].idxmax(),]\n",
    "oldest_survivor[['Name','Age','Sex','Survived']]\n"
   ],
   "id": "bd1cbdb991e3a725",
   "outputs": [
    {
     "data": {
      "text/plain": [
       "Name        Barkworth, Mr. Algernon Henry Wilson\n",
       "Age                                         80.0\n",
       "Sex                                         male\n",
       "Survived                                       1\n",
       "Name: 630, dtype: object"
      ]
     },
     "execution_count": 58,
     "metadata": {},
     "output_type": "execute_result"
    }
   ],
   "execution_count": 58
  },
  {
   "metadata": {
    "ExecuteTime": {
     "end_time": "2025-10-13T20:40:41.525667Z",
     "start_time": "2025-10-13T20:40:41.517394Z"
    }
   },
   "cell_type": "code",
   "source": [
    "#Exercise 12\n",
    "#What is the total number of passengers from each class who survived?\n",
    "print(df['Pclass'].unique())\n",
    "\n",
    "survivors_by_class = df[df['Survived'] == 1].groupby('Pclass').size().rename('SurvivorCount')\n",
    "survivors_by_class\n"
   ],
   "id": "3253580689218343",
   "outputs": [
    {
     "name": "stdout",
     "output_type": "stream",
     "text": [
      "[3 1 2]\n"
     ]
    },
    {
     "data": {
      "text/plain": [
       "Pclass\n",
       "1    136\n",
       "2     87\n",
       "3    119\n",
       "Name: SurvivorCount, dtype: int64"
      ]
     },
     "execution_count": 64,
     "metadata": {},
     "output_type": "execute_result"
    }
   ],
   "execution_count": 64
  },
  {
   "metadata": {
    "ExecuteTime": {
     "end_time": "2025-10-13T20:43:52.548717Z",
     "start_time": "2025-10-13T20:43:52.535473Z"
    }
   },
   "cell_type": "code",
   "source": [
    "#Exercise 13\n",
    "#What was the average fare for male vs female passengers from each embarkment harbor\n",
    "\n",
    "ave = df.groupby(['Embarked', 'Sex'])['Fare'].mean()\n",
    "ave"
   ],
   "id": "320cb05f3b8d617a",
   "outputs": [
    {
     "data": {
      "text/plain": [
       "Embarked  Sex   \n",
       "C         female    75.169805\n",
       "          male      48.262109\n",
       "Q         female    12.634958\n",
       "          male      13.838922\n",
       "S         female    38.740929\n",
       "          male      21.711996\n",
       "Name: Fare, dtype: float64"
      ]
     },
     "execution_count": 65,
     "metadata": {},
     "output_type": "execute_result"
    }
   ],
   "execution_count": 65
  },
  {
   "metadata": {
    "ExecuteTime": {
     "end_time": "2025-10-13T20:46:10.454049Z",
     "start_time": "2025-10-13T20:46:10.447167Z"
    }
   },
   "cell_type": "code",
   "source": [
    "#Exercise 14\n",
    "#What was the average age for each Passenger class (rounden to one decimal point)?\n",
    "aveAge = df.groupby(['Pclass'])['Age'].mean().round(1)\n",
    "aveAge"
   ],
   "id": "f15b671334292a6a",
   "outputs": [
    {
     "data": {
      "text/plain": [
       "Pclass\n",
       "1    38.2\n",
       "2    29.9\n",
       "3    25.1\n",
       "Name: Age, dtype: float64"
      ]
     },
     "execution_count": 67,
     "metadata": {},
     "output_type": "execute_result"
    }
   ],
   "execution_count": 67
  },
  {
   "metadata": {
    "ExecuteTime": {
     "end_time": "2025-10-13T20:52:34.867208Z",
     "start_time": "2025-10-13T20:52:34.859161Z"
    }
   },
   "cell_type": "code",
   "source": [
    "#Exercise 15\n",
    "#Use .query() to filter all passenger (male and female) younger than 20. Give the first 20 and return their names.\n",
    "younger_than_20 = df.query(\"Age < 20\")['Name'].head(20)\n",
    "younger_than_20"
   ],
   "id": "fb8d3535eb10114e",
   "outputs": [
    {
     "data": {
      "text/plain": [
       "7                    Palsson, Master. Gosta Leonard\n",
       "9               Nasser, Mrs. Nicholas (Adele Achem)\n",
       "10                  Sandstrom, Miss. Marguerite Rut\n",
       "14             Vestrom, Miss. Hulda Amanda Adolfina\n",
       "16                             Rice, Master. Eugene\n",
       "22                      McGowan, Miss. Anna \"Annie\"\n",
       "24                    Palsson, Miss. Torborg Danira\n",
       "27                   Fortune, Mr. Charles Alexander\n",
       "38               Vander Planke, Miss. Augusta Maria\n",
       "39                      Nicola-Yarred, Miss. Jamila\n",
       "43         Laroche, Miss. Simonne Marie Anne Andree\n",
       "44                    Devaney, Miss. Margaret Delia\n",
       "49    Arnold-Franchi, Mrs. Josef (Josefine Franchi)\n",
       "50                       Panula, Master. Juha Niilo\n",
       "58                     West, Miss. Constance Mirium\n",
       "59               Goodwin, Master. William Frederick\n",
       "63                            Skoog, Master. Harald\n",
       "67                         Crease, Mr. Ernest James\n",
       "68                  Andersson, Miss. Erna Alexandra\n",
       "71                       Goodwin, Miss. Lillian Amy\n",
       "Name: Name, dtype: object"
      ]
     },
     "execution_count": 69,
     "metadata": {},
     "output_type": "execute_result"
    }
   ],
   "execution_count": 69
  },
  {
   "metadata": {
    "ExecuteTime": {
     "end_time": "2025-10-13T20:55:25.604201Z",
     "start_time": "2025-10-13T20:55:25.593471Z"
    }
   },
   "cell_type": "code",
   "source": [
    "#Exercise 16\n",
    "#For each passenger class, calculate average age, minimum age, and maximum fare\n",
    "grouping = df.groupby('Pclass').agg({\n",
    "    \"Age\": [\"mean\",\"min\"],\n",
    "    \"Fare\": \"max\"\n",
    "})\n",
    "grouping"
   ],
   "id": "f2bee78e0a93f735",
   "outputs": [
    {
     "data": {
      "text/plain": [
       "              Age            Fare\n",
       "             mean   min       max\n",
       "Pclass                           \n",
       "1       38.233441  0.92  512.3292\n",
       "2       29.877630  0.67   73.5000\n",
       "3       25.140620  0.42   69.5500"
      ],
      "text/html": [
       "<div>\n",
       "<style scoped>\n",
       "    .dataframe tbody tr th:only-of-type {\n",
       "        vertical-align: middle;\n",
       "    }\n",
       "\n",
       "    .dataframe tbody tr th {\n",
       "        vertical-align: top;\n",
       "    }\n",
       "\n",
       "    .dataframe thead tr th {\n",
       "        text-align: left;\n",
       "    }\n",
       "\n",
       "    .dataframe thead tr:last-of-type th {\n",
       "        text-align: right;\n",
       "    }\n",
       "</style>\n",
       "<table border=\"1\" class=\"dataframe\">\n",
       "  <thead>\n",
       "    <tr>\n",
       "      <th></th>\n",
       "      <th colspan=\"2\" halign=\"left\">Age</th>\n",
       "      <th>Fare</th>\n",
       "    </tr>\n",
       "    <tr>\n",
       "      <th></th>\n",
       "      <th>mean</th>\n",
       "      <th>min</th>\n",
       "      <th>max</th>\n",
       "    </tr>\n",
       "    <tr>\n",
       "      <th>Pclass</th>\n",
       "      <th></th>\n",
       "      <th></th>\n",
       "      <th></th>\n",
       "    </tr>\n",
       "  </thead>\n",
       "  <tbody>\n",
       "    <tr>\n",
       "      <th>1</th>\n",
       "      <td>38.233441</td>\n",
       "      <td>0.92</td>\n",
       "      <td>512.3292</td>\n",
       "    </tr>\n",
       "    <tr>\n",
       "      <th>2</th>\n",
       "      <td>29.877630</td>\n",
       "      <td>0.67</td>\n",
       "      <td>73.5000</td>\n",
       "    </tr>\n",
       "    <tr>\n",
       "      <th>3</th>\n",
       "      <td>25.140620</td>\n",
       "      <td>0.42</td>\n",
       "      <td>69.5500</td>\n",
       "    </tr>\n",
       "  </tbody>\n",
       "</table>\n",
       "</div>"
      ]
     },
     "execution_count": 71,
     "metadata": {},
     "output_type": "execute_result"
    }
   ],
   "execution_count": 71
  }
 ],
 "metadata": {
  "kernelspec": {
   "display_name": "Python 3",
   "language": "python",
   "name": "python3"
  },
  "language_info": {
   "codemirror_mode": {
    "name": "ipython",
    "version": 2
   },
   "file_extension": ".py",
   "mimetype": "text/x-python",
   "name": "python",
   "nbconvert_exporter": "python",
   "pygments_lexer": "ipython2",
   "version": "2.7.6"
  }
 },
 "nbformat": 4,
 "nbformat_minor": 5
}
