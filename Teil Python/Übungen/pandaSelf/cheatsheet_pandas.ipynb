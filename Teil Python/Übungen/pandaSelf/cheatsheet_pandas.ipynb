{
 "cells": [
  {
   "cell_type": "code",
   "id": "initial_id",
   "metadata": {
    "collapsed": true,
    "ExecuteTime": {
     "end_time": "2025-10-13T17:39:18.951430Z",
     "start_time": "2025-10-13T17:39:15.246328Z"
    }
   },
   "source": "import pandas as pd",
   "outputs": [],
   "execution_count": 1
  },
  {
   "metadata": {
    "ExecuteTime": {
     "end_time": "2025-10-13T17:40:02.137072Z",
     "start_time": "2025-10-13T17:40:02.129611Z"
    }
   },
   "cell_type": "code",
   "source": [
    "#Series erstellen\n",
    "my_series = pd.Series([10, 20, 30, 40], name=\"my_series\", index=[\"a\", \"b\", \"c\", \"d\"])\n",
    "var = my_series.values\n",
    "ind = my_series.index"
   ],
   "id": "b295440eb2d7b001",
   "outputs": [],
   "execution_count": 3
  },
  {
   "metadata": {
    "ExecuteTime": {
     "end_time": "2025-10-13T17:41:58.983037Z",
     "start_time": "2025-10-13T17:41:58.963214Z"
    }
   },
   "cell_type": "code",
   "source": [
    "#Aus Series ein DataFrame erstellen\n",
    "data = {\"col_a\": my_series, \"col_b\": [\"a\", \"b\", \"c\", \"d\"]}\n",
    "my_dataFrame = pd.DataFrame(data)\n",
    "print(my_dataFrame)"
   ],
   "id": "85aa85f8ce96ab79",
   "outputs": [
    {
     "name": "stdout",
     "output_type": "stream",
     "text": [
      "   col_a col_b\n",
      "a     10     a\n",
      "b     20     b\n",
      "c     30     c\n",
      "d     40     d\n"
     ]
    }
   ],
   "execution_count": 5
  },
  {
   "metadata": {
    "ExecuteTime": {
     "end_time": "2025-10-13T17:42:14.893678Z",
     "start_time": "2025-10-13T17:42:14.889104Z"
    }
   },
   "cell_type": "code",
   "source": [
    "#Dictionary wird Spaltenweise in DataFram umgewandelt (Titel für Spalten sind die einzelnen Keys)\n",
    "data = {\n",
    "    'Name': ['Alice', 'Bob', 'Charlie', 'David', 'Eve'],\n",
    "    'Age': [25, 30, 35, 40, 25],\n",
    "    'City': ['New York', 'Los Angeles', 'Chicago', 'Houston', 'New York'],\n",
    "    'Salary': [70000, 80000, 90000, 100000, 75000]\n",
    "}"
   ],
   "id": "57beb48b92e16dd9",
   "outputs": [],
   "execution_count": 6
  },
  {
   "metadata": {
    "ExecuteTime": {
     "end_time": "2025-10-13T17:43:20.954307Z",
     "start_time": "2025-10-13T17:43:20.948998Z"
    }
   },
   "cell_type": "code",
   "source": [
    "# Liste aus Listen wird Zeilenweise in DataFrame umgewandelt\n",
    "data = [\n",
    "    ['Alice', 25, 70000],\n",
    "    ['Bob', 30, 80000],\n",
    "    ['Charlie', 35, 90000],\n",
    "    ['David', 40, 100000],\n",
    "    ['Eve', 25, 75000]\n",
    "]"
   ],
   "id": "508a98bf7091a515",
   "outputs": [],
   "execution_count": 7
  },
  {
   "metadata": {
    "ExecuteTime": {
     "end_time": "2025-10-13T17:44:19.591821Z",
     "start_time": "2025-10-13T17:44:19.583441Z"
    }
   },
   "cell_type": "code",
   "source": [
    "#Deshalb müssen wir die Spaltennamen hinzufügen\n",
    "column_names = [\"Names\", \"Age\", \"Salary\"]\n",
    "\n",
    "df = pd.DataFrame(data, columns=column_names, index=[0, 1, 2, 3, 4])"
   ],
   "id": "fb0b0f4a369f7253",
   "outputs": [],
   "execution_count": 8
  },
  {
   "metadata": {
    "ExecuteTime": {
     "end_time": "2025-10-13T18:09:13.267447Z",
     "start_time": "2025-10-13T18:09:13.261915Z"
    }
   },
   "cell_type": "code",
   "source": [
    "#Neue Spalte mit gleichem Wert oder veränderten Wert in DataFrame einfügen\n",
    "df[\"Country\"] = \"USA\"\n",
    "\n",
    "df[\"Age_in_5_years\"] = df[\"Age\"] + 5"
   ],
   "id": "fae3bc1aae99cadf",
   "outputs": [],
   "execution_count": 10
  },
  {
   "metadata": {
    "ExecuteTime": {
     "end_time": "2025-10-13T18:09:27.409996Z",
     "start_time": "2025-10-13T18:09:27.388368Z"
    }
   },
   "cell_type": "code",
   "source": [
    "#DataFrame sortieren\n",
    "df_sorted = df.sort_values(by=[\"Age\", \"Salary\"], ascending=[True, False])"
   ],
   "id": "5cfb7a6eff9ddfc3",
   "outputs": [],
   "execution_count": 11
  },
  {
   "metadata": {
    "ExecuteTime": {
     "end_time": "2025-10-13T18:09:39.702822Z",
     "start_time": "2025-10-13T18:09:39.696166Z"
    }
   },
   "cell_type": "code",
   "source": [
    "#Nur bestimmte Spalten von DataFrame ausgeben (1 Spalte wäre ein Series)\n",
    "names = df[[\"Names\", \"Age\"]]"
   ],
   "id": "a35333c0c71c5000",
   "outputs": [],
   "execution_count": 12
  },
  {
   "metadata": {
    "ExecuteTime": {
     "end_time": "2025-10-13T18:09:49.737070Z",
     "start_time": "2025-10-13T18:09:49.732993Z"
    }
   },
   "cell_type": "code",
   "source": [
    "#Neue Spalte mit definerten Werte in DataFrame einfügen\n",
    "df[\"City\"] = [\"New York\", \"LA\", \"Chicago\", \"Houston\", \"LA\"]"
   ],
   "id": "2bc5deeeeb6a68a1",
   "outputs": [],
   "execution_count": 13
  },
  {
   "metadata": {
    "ExecuteTime": {
     "end_time": "2025-10-13T18:10:00.181827Z",
     "start_time": "2025-10-13T18:10:00.171161Z"
    }
   },
   "cell_type": "code",
   "source": [
    "#Zählen wie oft ein Wert der Spalte in DataFrame vorkommt\n",
    "num = df[\"City\"].value_counts(normalize=True)"
   ],
   "id": "52c049a23bb9259f",
   "outputs": [],
   "execution_count": 14
  },
  {
   "metadata": {
    "ExecuteTime": {
     "end_time": "2025-10-13T18:10:31.921568Z",
     "start_time": "2025-10-13T18:10:31.913122Z"
    }
   },
   "cell_type": "code",
   "source": [
    "#Normalen Filter setzen\n",
    "age_filter = df[\"Age\"] > 30\n",
    "old_people = df[age_filter]\n",
    "\n",
    "ny_and_highsalary = df[(df[\"City\"] == \" New York\") & (df[\"Salary\"] > 70000)]"
   ],
   "id": "d815a14509a9c799",
   "outputs": [],
   "execution_count": 16
  },
  {
   "metadata": {
    "ExecuteTime": {
     "end_time": "2025-10-13T18:10:39.501461Z",
     "start_time": "2025-10-13T18:10:39.494626Z"
    }
   },
   "cell_type": "code",
   "source": [
    "#Mit isin-Umkehr-Operation\n",
    "selected_cities = [\"New York\", \"Houston\"]\n",
    "not_in_cities = df[~df[\"City\"].isin(selected_cities)]"
   ],
   "id": "5997f3efa95df7d2",
   "outputs": [],
   "execution_count": 17
  },
  {
   "metadata": {
    "ExecuteTime": {
     "end_time": "2025-10-13T18:10:48.593830Z",
     "start_time": "2025-10-13T18:10:48.584751Z"
    }
   },
   "cell_type": "code",
   "source": [
    "#Mit Query Filter setzen\n",
    "old_people_query = df.query(\"City == 'New York' and Salary > 70000\")"
   ],
   "id": "18ab9789a0058e04",
   "outputs": [],
   "execution_count": 18
  },
  {
   "metadata": {
    "ExecuteTime": {
     "end_time": "2025-10-13T18:10:59.659527Z",
     "start_time": "2025-10-13T18:10:59.649234Z"
    }
   },
   "cell_type": "code",
   "source": [
    "#LOC: Mit Index-Zeile und Label-Spalte einen bestimmten Wert holen\n",
    "single_cell = df.loc[1, \"Names\"]\n",
    "rows_and_cols = df.loc[1:3, ['Names', 'Age']]"
   ],
   "id": "7d143bb0a6b5385c",
   "outputs": [],
   "execution_count": 19
  },
  {
   "metadata": {
    "ExecuteTime": {
     "end_time": "2025-10-13T18:11:08.698763Z",
     "start_time": "2025-10-13T18:11:08.693497Z"
    }
   },
   "cell_type": "code",
   "source": [
    "#ILOC: Mit Index-Zeile und Index-Spalte einen bestimmten Wert holen\n",
    "single_cell_iloc = df.iloc[0, 0]\n",
    "all_rows_some_cols = df.iloc[:, [0, 2]]"
   ],
   "id": "30eca56e31a9e12d",
   "outputs": [],
   "execution_count": 20
  },
  {
   "metadata": {
    "ExecuteTime": {
     "end_time": "2025-10-13T18:11:28.892767Z",
     "start_time": "2025-10-13T18:11:28.881318Z"
    }
   },
   "cell_type": "code",
   "source": [
    "# Statistische Berechnungen\n",
    "salaries = df[\"Salary\"]\n",
    "print(\"Total Salary:\", salaries.sum())\n",
    "print(\"Average Salary:\", salaries.mean())\n",
    "print(\"Minimum Salary\", salaries.min())\n",
    "print(\"Maximum Salary\", salaries.max())\n",
    "print(\"Median Salary\", salaries.median())\n",
    "print(\"Salaray Standard Deviation:\", salaries.std())"
   ],
   "id": "8382a01255184889",
   "outputs": [
    {
     "name": "stdout",
     "output_type": "stream",
     "text": [
      "Total Salary: 415000\n",
      "Average Salary: 83000.0\n",
      "Minimum Salary 70000\n",
      "Maximum Salary 100000\n",
      "Median Salary 80000.0\n",
      "Salaray Standard Deviation: 12041.594578792296\n"
     ]
    }
   ],
   "execution_count": 21
  },
  {
   "metadata": {
    "ExecuteTime": {
     "end_time": "2025-10-13T18:11:38.417355Z",
     "start_time": "2025-10-13T18:11:38.401868Z"
    }
   },
   "cell_type": "code",
   "source": [
    "#GroupBy-Funktionen\n",
    "avg_salary_by_city = df.groupby(\"City\")[\"Salary\"].mean()\n",
    "people_by_city = df.groupby(\"City\")[\"Names\"].count()"
   ],
   "id": "9a43bb9946c10a51",
   "outputs": [],
   "execution_count": 22
  },
  {
   "metadata": {
    "ExecuteTime": {
     "end_time": "2025-10-13T18:11:47.972805Z",
     "start_time": "2025-10-13T18:11:47.959808Z"
    }
   },
   "cell_type": "code",
   "source": [
    "#Mit Anwendung von Funktionen\n",
    "grouping = df.groupby(\"Age\").agg({\n",
    "    \"Age\": \"count\",\n",
    "    \"Salary\": [\"min\", \"max\", \"mean\"]\n",
    "})"
   ],
   "id": "2f53646bea7a790b",
   "outputs": [],
   "execution_count": 23
  }
 ],
 "metadata": {
  "kernelspec": {
   "display_name": "Python 3",
   "language": "python",
   "name": "python3"
  },
  "language_info": {
   "codemirror_mode": {
    "name": "ipython",
    "version": 2
   },
   "file_extension": ".py",
   "mimetype": "text/x-python",
   "name": "python",
   "nbconvert_exporter": "python",
   "pygments_lexer": "ipython2",
   "version": "2.7.6"
  }
 },
 "nbformat": 4,
 "nbformat_minor": 5
}
